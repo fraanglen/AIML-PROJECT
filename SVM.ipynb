{
  "nbformat": 4,
  "nbformat_minor": 0,
  "metadata": {
    "colab": {
      "provenance": [],
      "authorship_tag": "ABX9TyOpcCtHe1lyTEq5+gaq2ETG",
      "include_colab_link": true
    },
    "kernelspec": {
      "name": "python3",
      "display_name": "Python 3"
    },
    "language_info": {
      "name": "python"
    }
  },
  "cells": [
    {
      "cell_type": "markdown",
      "metadata": {
        "id": "view-in-github",
        "colab_type": "text"
      },
      "source": [
        "<a href=\"https://colab.research.google.com/github/fraanglen/AIML-PROJECT/blob/main/SVM.ipynb\" target=\"_parent\"><img src=\"https://colab.research.google.com/assets/colab-badge.svg\" alt=\"Open In Colab\"/></a>"
      ]
    },
    {
      "cell_type": "code",
      "execution_count": 1,
      "metadata": {
        "id": "qNv2Wi6Lf2gW"
      },
      "outputs": [],
      "source": [
        "import pandas as pd\n",
        "from sklearn.datasets import load_iris\n",
        "from sklearn.model_selection import train_test_split\n",
        "from sklearn.svm import SVC"
      ]
    },
    {
      "cell_type": "code",
      "source": [
        "iris = load_iris()\n",
        "df = pd.DataFrame(iris.data, columns=iris.feature_names)\n",
        "df['target'] = iris.target\n",
        "df['flower_name'] = df.target.apply(lambda x: iris.target_names[x])"
      ],
      "metadata": {
        "id": "Ux3epzlGgFUZ"
      },
      "execution_count": 2,
      "outputs": []
    },
    {
      "cell_type": "code",
      "source": [
        "X = df.drop(['target', 'flower_name'], axis='columns')\n",
        "y = df.target"
      ],
      "metadata": {
        "id": "w1htHBRNgNcx"
      },
      "execution_count": 3,
      "outputs": []
    },
    {
      "cell_type": "code",
      "source": [
        "X_train, X_test, y_train, y_test = train_test_split(\n",
        "    X, y, test_size=0.2, random_state=42, stratify=y\n",
        ")"
      ],
      "metadata": {
        "id": "1e7GAEaBgPSH"
      },
      "execution_count": 4,
      "outputs": []
    },
    {
      "cell_type": "code",
      "source": [
        "kernels = ['linear', 'rbf', 'poly', 'sigmoid']\n",
        "print(\"Accuracy using different kernels:\\n\")\n",
        "\n",
        "for k in kernels:\n",
        "    model = SVC(kernel=k)\n",
        "    model.fit(X_train, y_train)\n",
        "    print(f\"Kernel = {k:<7} → Accuracy = {model.score(X_test, y_test):.4f}\")"
      ],
      "metadata": {
        "colab": {
          "base_uri": "https://localhost:8080/"
        },
        "id": "41_xtnkTgUo-",
        "outputId": "0dc14334-8aab-4ab1-8a44-09db21965d55"
      },
      "execution_count": 5,
      "outputs": [
        {
          "output_type": "stream",
          "name": "stdout",
          "text": [
            "Accuracy using different kernels:\n",
            "\n",
            "Kernel = linear  → Accuracy = 1.0000\n",
            "Kernel = rbf     → Accuracy = 0.9667\n",
            "Kernel = poly    → Accuracy = 0.9667\n",
            "Kernel = sigmoid → Accuracy = 0.1000\n"
          ]
        }
      ]
    },
    {
      "cell_type": "code",
      "source": [
        "print(\"\\nTuning Regularization (C):\")\n",
        "for c in [0.1, 1, 10, 50, 100]:\n",
        "    model = SVC(C=c, kernel='rbf')\n",
        "    model.fit(X_train, y_train)\n",
        "    print(f\"C = {c:<5} → Accuracy = {model.score(X_test, y_test):.4f}\")\n"
      ],
      "metadata": {
        "colab": {
          "base_uri": "https://localhost:8080/"
        },
        "id": "O1SOww29gapX",
        "outputId": "8135bd75-861c-44dc-c2b9-69acce8444fd"
      },
      "execution_count": 6,
      "outputs": [
        {
          "output_type": "stream",
          "name": "stdout",
          "text": [
            "\n",
            "Tuning Regularization (C):\n",
            "C = 0.1   → Accuracy = 0.9000\n",
            "C = 1     → Accuracy = 0.9667\n",
            "C = 10    → Accuracy = 1.0000\n",
            "C = 50    → Accuracy = 0.9667\n",
            "C = 100   → Accuracy = 0.9667\n"
          ]
        }
      ]
    },
    {
      "cell_type": "code",
      "source": [
        "print(\"\\nTuning Gamma:\")\n",
        "for g in [0.001, 0.01, 0.1, 1, 10]:\n",
        "    model = SVC(gamma=g, kernel='rbf')\n",
        "    model.fit(X_train, y_train)\n",
        "    print(f\"Gamma = {g:<6} → Accuracy = {model.score(X_test, y_test):.4f}\")"
      ],
      "metadata": {
        "colab": {
          "base_uri": "https://localhost:8080/"
        },
        "id": "J95x82MxgxCk",
        "outputId": "f9d72207-940b-40e9-8b36-12864e5841c2"
      },
      "execution_count": 7,
      "outputs": [
        {
          "output_type": "stream",
          "name": "stdout",
          "text": [
            "\n",
            "Tuning Gamma:\n",
            "Gamma = 0.001  → Accuracy = 0.9000\n",
            "Gamma = 0.01   → Accuracy = 0.9000\n",
            "Gamma = 0.1    → Accuracy = 0.9333\n",
            "Gamma = 1      → Accuracy = 0.9667\n",
            "Gamma = 10     → Accuracy = 0.9333\n"
          ]
        }
      ]
    },
    {
      "cell_type": "code",
      "source": [
        "best_score = 0\n",
        "best_params = (None, None)\n",
        "\n",
        "for c in [0.1, 1, 10, 50, 100]:\n",
        "    for g in [0.001, 0.01, 0.1, 1, 10]:\n",
        "        model = SVC(C=c, gamma=g, kernel='rbf')\n",
        "        model.fit(X_train, y_train)\n",
        "        acc = model.score(X_test, y_test)\n",
        "        if acc > best_score:\n",
        "            best_score = acc\n",
        "            best_params = (c, g)\n",
        "\n",
        "print(f\"\\n🌟 Best Accuracy = {best_score:.4f} achieved with C = {best_params[0]} and Gamma = {best_params[1]}\")"
      ],
      "metadata": {
        "colab": {
          "base_uri": "https://localhost:8080/"
        },
        "id": "8VCX4uUgg6ol",
        "outputId": "6fab80c7-1b7d-4db4-d90e-b7ba83bc2f53"
      },
      "execution_count": 8,
      "outputs": [
        {
          "output_type": "stream",
          "name": "stdout",
          "text": [
            "\n",
            "🌟 Best Accuracy = 1.0000 achieved with C = 10 and Gamma = 0.1\n"
          ]
        }
      ]
    }
  ]
}