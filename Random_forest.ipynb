{
  "nbformat": 4,
  "nbformat_minor": 0,
  "metadata": {
    "colab": {
      "provenance": [],
      "authorship_tag": "ABX9TyNjFEHO4qc2fhUOW4S1PgXD",
      "include_colab_link": true
    },
    "kernelspec": {
      "name": "python3",
      "display_name": "Python 3"
    },
    "language_info": {
      "name": "python"
    }
  },
  "cells": [
    {
      "cell_type": "markdown",
      "metadata": {
        "id": "view-in-github",
        "colab_type": "text"
      },
      "source": [
        "<a href=\"https://colab.research.google.com/github/fraanglen/AIML-PROJECT/blob/main/Random_forest.ipynb\" target=\"_parent\"><img src=\"https://colab.research.google.com/assets/colab-badge.svg\" alt=\"Open In Colab\"/></a>"
      ]
    },
    {
      "cell_type": "code",
      "execution_count": 1,
      "metadata": {
        "id": "D5dnLM9EecAG"
      },
      "outputs": [],
      "source": [
        "import pandas as pd\n",
        "from sklearn.datasets import load_iris\n",
        "from sklearn.model_selection import train_test_split\n",
        "from sklearn.ensemble import RandomForestClassifier\n",
        "from sklearn.metrics import accuracy_score\n"
      ]
    },
    {
      "cell_type": "code",
      "source": [
        "iris = load_iris()"
      ],
      "metadata": {
        "id": "taYfwZAYe3dE"
      },
      "execution_count": 2,
      "outputs": []
    },
    {
      "cell_type": "code",
      "source": [
        "df = pd.DataFrame(iris.data, columns=iris.feature_names)\n",
        "df['target'] = iris.target"
      ],
      "metadata": {
        "id": "iunWlvo1e7c1"
      },
      "execution_count": 3,
      "outputs": []
    },
    {
      "cell_type": "code",
      "source": [
        "X = df.drop('target', axis='columns')\n",
        "y = df['target']"
      ],
      "metadata": {
        "id": "TJlW9bs5e_Py"
      },
      "execution_count": 4,
      "outputs": []
    },
    {
      "cell_type": "code",
      "source": [
        "X_train, X_test, y_train, y_test = train_test_split(X, y, test_size=0.2, random_state=42)"
      ],
      "metadata": {
        "id": "LRpnm1iqfInw"
      },
      "execution_count": 5,
      "outputs": []
    },
    {
      "cell_type": "code",
      "source": [
        "model = RandomForestClassifier(n_estimators=10, random_state=42)\n",
        "model.fit(X_train, y_train)\n",
        "default_score = model.score(X_test, y_test)\n",
        "print(f\"Default n_estimators=10 → Accuracy: {default_score:.4f}\")"
      ],
      "metadata": {
        "colab": {
          "base_uri": "https://localhost:8080/"
        },
        "id": "jJbAUvb3fNdb",
        "outputId": "9412e751-bfba-44bb-d494-c4d331f28b0e"
      },
      "execution_count": 6,
      "outputs": [
        {
          "output_type": "stream",
          "name": "stdout",
          "text": [
            "Default n_estimators=10 → Accuracy: 1.0000\n"
          ]
        }
      ]
    },
    {
      "cell_type": "code",
      "source": [
        "best_score = 0\n",
        "best_n = 0"
      ],
      "metadata": {
        "id": "fuWENGWcfVca"
      },
      "execution_count": 7,
      "outputs": []
    },
    {
      "cell_type": "code",
      "source": [
        "for n in [5, 10, 20, 30, 50, 70, 100]:\n",
        "    model = RandomForestClassifier(n_estimators=n, random_state=42)\n",
        "    model.fit(X_train, y_train)\n",
        "    print(f\"n_estimators={n} → Accuracy: {model.score(X_test, y_test):.4f}\")"
      ],
      "metadata": {
        "colab": {
          "base_uri": "https://localhost:8080/"
        },
        "id": "-oabTQH1fcSQ",
        "outputId": "51f64fb0-0285-4c5f-aeb2-3ee7276d53fd"
      },
      "execution_count": 8,
      "outputs": [
        {
          "output_type": "stream",
          "name": "stdout",
          "text": [
            "n_estimators=5 → Accuracy: 0.9667\n",
            "n_estimators=10 → Accuracy: 1.0000\n",
            "n_estimators=20 → Accuracy: 1.0000\n",
            "n_estimators=30 → Accuracy: 1.0000\n",
            "n_estimators=50 → Accuracy: 1.0000\n",
            "n_estimators=70 → Accuracy: 1.0000\n",
            "n_estimators=100 → Accuracy: 1.0000\n"
          ]
        }
      ]
    },
    {
      "cell_type": "code",
      "source": [
        "for n in [5, 10,  20,  30, 50, 70, 100]:  # Try 5, 10, 15, ..., 100 trees\n",
        "    model = RandomForestClassifier(n_estimators=n, random_state=42)\n",
        "    model.fit(X_train, y_train)\n",
        "    score = model.score(X_test, y_test)\n",
        "\n",
        "    if score > best_score:\n",
        "        best_score = score\n",
        "        best_n = n\n",
        "\n",
        "print(f\"\\n🌳 Best accuracy: {best_score:.4f} with n_estimators = {best_n}\")"
      ],
      "metadata": {
        "colab": {
          "base_uri": "https://localhost:8080/"
        },
        "id": "5Z7dQEYdfjNz",
        "outputId": "cd3ab002-46e0-434b-dc66-a98d6eb9d831"
      },
      "execution_count": 9,
      "outputs": [
        {
          "output_type": "stream",
          "name": "stdout",
          "text": [
            "\n",
            "🌳 Best accuracy: 1.0000 with n_estimators = 10\n"
          ]
        }
      ]
    }
  ]
}